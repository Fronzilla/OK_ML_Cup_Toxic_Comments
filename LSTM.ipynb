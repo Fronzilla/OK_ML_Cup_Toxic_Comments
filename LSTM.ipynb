{
 "cells": [
  {
   "cell_type": "code",
   "execution_count": 1,
   "metadata": {},
   "outputs": [],
   "source": [
    "import sys, os, re, csv, codecs, numpy as np, pandas as pd\n",
    "\n",
    "from tensorflow.keras.preprocessing.text import Tokenizer\n",
    "from tensorflow.keras.preprocessing.sequence import pad_sequences\n",
    "from tensorflow.keras.layers import Dense, Input, LSTM, Embedding, Dropout, Activation\n",
    "from tensorflow.keras.layers import Bidirectional, GlobalMaxPool1D\n",
    "from tensorflow.keras.models import Model"
   ]
  },
  {
   "cell_type": "code",
   "execution_count": 2,
   "metadata": {},
   "outputs": [],
   "source": [
    "EMBEDDING_FILE='./data/multilingual_embeddings.ru'\n",
    "TRAIN_DATA_FILE='./data/train'\n",
    "TEST_DATA_FILE='./data/test'\n",
    "DATA = './data/data'"
   ]
  },
  {
   "cell_type": "code",
   "execution_count": 3,
   "metadata": {},
   "outputs": [],
   "source": [
    "embed_size = 300 \n",
    "max_features = 20000 \n",
    "maxlen = 100"
   ]
  },
  {
   "cell_type": "code",
   "execution_count": 4,
   "metadata": {},
   "outputs": [],
   "source": [
    "train = pd.read_table(\n",
    "    TRAIN_DATA_FILE, \n",
    "    delimiter='\\t', \n",
    "    error_bad_lines=False, \n",
    "    header = None, \n",
    "    names = ['id', 'label', 'comment']\n",
    ")\n"
   ]
  },
  {
   "cell_type": "code",
   "execution_count": 5,
   "metadata": {},
   "outputs": [
    {
     "data": {
      "text/html": [
       "<div>\n",
       "<style scoped>\n",
       "    .dataframe tbody tr th:only-of-type {\n",
       "        vertical-align: middle;\n",
       "    }\n",
       "\n",
       "    .dataframe tbody tr th {\n",
       "        vertical-align: top;\n",
       "    }\n",
       "\n",
       "    .dataframe thead th {\n",
       "        text-align: right;\n",
       "    }\n",
       "</style>\n",
       "<table border=\"1\" class=\"dataframe\">\n",
       "  <thead>\n",
       "    <tr style=\"text-align: right;\">\n",
       "      <th></th>\n",
       "      <th>id</th>\n",
       "      <th>label</th>\n",
       "      <th>comment</th>\n",
       "    </tr>\n",
       "  </thead>\n",
       "  <tbody>\n",
       "    <tr>\n",
       "      <th>0</th>\n",
       "      <td>41127</td>\n",
       "      <td>__label__THREAT</td>\n",
       "      <td>дворника надо тоже уничтожить!</td>\n",
       "    </tr>\n",
       "    <tr>\n",
       "      <th>1</th>\n",
       "      <td>6812</td>\n",
       "      <td>__label__NORMAL</td>\n",
       "      <td>моя старшая неделю шипела, не принимала подкид...</td>\n",
       "    </tr>\n",
       "    <tr>\n",
       "      <th>2</th>\n",
       "      <td>6256</td>\n",
       "      <td>__label__NORMAL</td>\n",
       "      <td>полностью с вами согласна!</td>\n",
       "    </tr>\n",
       "    <tr>\n",
       "      <th>3</th>\n",
       "      <td>189636</td>\n",
       "      <td>__label__NORMAL</td>\n",
       "      <td>хоть ногу вверх, ничего не изменится</td>\n",
       "    </tr>\n",
       "    <tr>\n",
       "      <th>4</th>\n",
       "      <td>99053</td>\n",
       "      <td>__label__NORMAL</td>\n",
       "      <td>а что значит - левого ребенка?</td>\n",
       "    </tr>\n",
       "  </tbody>\n",
       "</table>\n",
       "</div>"
      ],
      "text/plain": [
       "       id            label                                            comment\n",
       "0   41127  __label__THREAT                     дворника надо тоже уничтожить!\n",
       "1    6812  __label__NORMAL  моя старшая неделю шипела, не принимала подкид...\n",
       "2    6256  __label__NORMAL                         полностью с вами согласна!\n",
       "3  189636  __label__NORMAL               хоть ногу вверх, ничего не изменится\n",
       "4   99053  __label__NORMAL                     а что значит - левого ребенка?"
      ]
     },
     "execution_count": 5,
     "metadata": {},
     "output_type": "execute_result"
    }
   ],
   "source": [
    "train.head()"
   ]
  },
  {
   "cell_type": "code",
   "execution_count": 6,
   "metadata": {},
   "outputs": [],
   "source": [
    "# getting rid of '__label__'\n",
    "def clear_label(label):\n",
    "    return label.split('__label__')[1]\n",
    "    \n",
    "train['label'] = train['label'].apply(clear_label)\n",
    "train = pd.concat([train.drop('label', axis=1), pd.get_dummies(train['label'])], axis=1)\n",
    "train.columns= train.columns.str.strip().str.lower()\n",
    "train  = train[['id', 'comment', 'normal', 'insult','obscenity', 'threat']]"
   ]
  },
  {
   "cell_type": "code",
   "execution_count": 7,
   "metadata": {},
   "outputs": [
    {
     "data": {
      "text/html": [
       "<div>\n",
       "<style scoped>\n",
       "    .dataframe tbody tr th:only-of-type {\n",
       "        vertical-align: middle;\n",
       "    }\n",
       "\n",
       "    .dataframe tbody tr th {\n",
       "        vertical-align: top;\n",
       "    }\n",
       "\n",
       "    .dataframe thead th {\n",
       "        text-align: right;\n",
       "    }\n",
       "</style>\n",
       "<table border=\"1\" class=\"dataframe\">\n",
       "  <thead>\n",
       "    <tr style=\"text-align: right;\">\n",
       "      <th></th>\n",
       "      <th>id</th>\n",
       "      <th>comment</th>\n",
       "      <th>normal</th>\n",
       "      <th>insult</th>\n",
       "      <th>obscenity</th>\n",
       "      <th>threat</th>\n",
       "    </tr>\n",
       "  </thead>\n",
       "  <tbody>\n",
       "    <tr>\n",
       "      <th>0</th>\n",
       "      <td>41127</td>\n",
       "      <td>дворника надо тоже уничтожить!</td>\n",
       "      <td>0</td>\n",
       "      <td>0</td>\n",
       "      <td>0</td>\n",
       "      <td>1</td>\n",
       "    </tr>\n",
       "    <tr>\n",
       "      <th>1</th>\n",
       "      <td>6812</td>\n",
       "      <td>моя старшая неделю шипела, не принимала подкид...</td>\n",
       "      <td>1</td>\n",
       "      <td>0</td>\n",
       "      <td>0</td>\n",
       "      <td>0</td>\n",
       "    </tr>\n",
       "    <tr>\n",
       "      <th>2</th>\n",
       "      <td>6256</td>\n",
       "      <td>полностью с вами согласна!</td>\n",
       "      <td>1</td>\n",
       "      <td>0</td>\n",
       "      <td>0</td>\n",
       "      <td>0</td>\n",
       "    </tr>\n",
       "    <tr>\n",
       "      <th>3</th>\n",
       "      <td>189636</td>\n",
       "      <td>хоть ногу вверх, ничего не изменится</td>\n",
       "      <td>1</td>\n",
       "      <td>0</td>\n",
       "      <td>0</td>\n",
       "      <td>0</td>\n",
       "    </tr>\n",
       "    <tr>\n",
       "      <th>4</th>\n",
       "      <td>99053</td>\n",
       "      <td>а что значит - левого ребенка?</td>\n",
       "      <td>1</td>\n",
       "      <td>0</td>\n",
       "      <td>0</td>\n",
       "      <td>0</td>\n",
       "    </tr>\n",
       "  </tbody>\n",
       "</table>\n",
       "</div>"
      ],
      "text/plain": [
       "       id                                            comment  normal  insult  \\\n",
       "0   41127                     дворника надо тоже уничтожить!       0       0   \n",
       "1    6812  моя старшая неделю шипела, не принимала подкид...       1       0   \n",
       "2    6256                         полностью с вами согласна!       1       0   \n",
       "3  189636               хоть ногу вверх, ничего не изменится       1       0   \n",
       "4   99053                     а что значит - левого ребенка?       1       0   \n",
       "\n",
       "   obscenity  threat  \n",
       "0          0       1  \n",
       "1          0       0  \n",
       "2          0       0  \n",
       "3          0       0  \n",
       "4          0       0  "
      ]
     },
     "execution_count": 7,
     "metadata": {},
     "output_type": "execute_result"
    }
   ],
   "source": [
    "train.head()"
   ]
  },
  {
   "cell_type": "code",
   "execution_count": 8,
   "metadata": {},
   "outputs": [
    {
     "data": {
      "text/html": [
       "<div>\n",
       "<style scoped>\n",
       "    .dataframe tbody tr th:only-of-type {\n",
       "        vertical-align: middle;\n",
       "    }\n",
       "\n",
       "    .dataframe tbody tr th {\n",
       "        vertical-align: top;\n",
       "    }\n",
       "\n",
       "    .dataframe thead th {\n",
       "        text-align: right;\n",
       "    }\n",
       "</style>\n",
       "<table border=\"1\" class=\"dataframe\">\n",
       "  <thead>\n",
       "    <tr style=\"text-align: right;\">\n",
       "      <th></th>\n",
       "      <th>id</th>\n",
       "    </tr>\n",
       "  </thead>\n",
       "  <tbody>\n",
       "    <tr>\n",
       "      <th>0</th>\n",
       "      <td>167315</td>\n",
       "    </tr>\n",
       "    <tr>\n",
       "      <th>1</th>\n",
       "      <td>224546</td>\n",
       "    </tr>\n",
       "    <tr>\n",
       "      <th>2</th>\n",
       "      <td>241309</td>\n",
       "    </tr>\n",
       "    <tr>\n",
       "      <th>3</th>\n",
       "      <td>31170</td>\n",
       "    </tr>\n",
       "    <tr>\n",
       "      <th>4</th>\n",
       "      <td>173358</td>\n",
       "    </tr>\n",
       "    <tr>\n",
       "      <th>...</th>\n",
       "      <td>...</td>\n",
       "    </tr>\n",
       "    <tr>\n",
       "      <th>99510</th>\n",
       "      <td>192320</td>\n",
       "    </tr>\n",
       "    <tr>\n",
       "      <th>99511</th>\n",
       "      <td>6646</td>\n",
       "    </tr>\n",
       "    <tr>\n",
       "      <th>99512</th>\n",
       "      <td>215218</td>\n",
       "    </tr>\n",
       "    <tr>\n",
       "      <th>99513</th>\n",
       "      <td>139806</td>\n",
       "    </tr>\n",
       "    <tr>\n",
       "      <th>99514</th>\n",
       "      <td>99052</td>\n",
       "    </tr>\n",
       "  </tbody>\n",
       "</table>\n",
       "<p>99515 rows × 1 columns</p>\n",
       "</div>"
      ],
      "text/plain": [
       "           id\n",
       "0      167315\n",
       "1      224546\n",
       "2      241309\n",
       "3       31170\n",
       "4      173358\n",
       "...       ...\n",
       "99510  192320\n",
       "99511    6646\n",
       "99512  215218\n",
       "99513  139806\n",
       "99514   99052\n",
       "\n",
       "[99515 rows x 1 columns]"
      ]
     },
     "execution_count": 8,
     "metadata": {},
     "output_type": "execute_result"
    }
   ],
   "source": [
    "test = pd.read_table(\n",
    "    TEST_DATA_FILE, \n",
    "    header = None, \n",
    "    names = ['id']\n",
    ")\n",
    "test"
   ]
  },
  {
   "cell_type": "code",
   "execution_count": 9,
   "metadata": {},
   "outputs": [
    {
     "data": {
      "text/html": [
       "<div>\n",
       "<style scoped>\n",
       "    .dataframe tbody tr th:only-of-type {\n",
       "        vertical-align: middle;\n",
       "    }\n",
       "\n",
       "    .dataframe tbody tr th {\n",
       "        vertical-align: top;\n",
       "    }\n",
       "\n",
       "    .dataframe thead th {\n",
       "        text-align: right;\n",
       "    }\n",
       "</style>\n",
       "<table border=\"1\" class=\"dataframe\">\n",
       "  <thead>\n",
       "    <tr style=\"text-align: right;\">\n",
       "      <th></th>\n",
       "      <th>id</th>\n",
       "      <th>comment</th>\n",
       "    </tr>\n",
       "  </thead>\n",
       "  <tbody>\n",
       "    <tr>\n",
       "      <th>0</th>\n",
       "      <td>41127</td>\n",
       "      <td>дворника надо тоже уничтожить!</td>\n",
       "    </tr>\n",
       "    <tr>\n",
       "      <th>1</th>\n",
       "      <td>6812</td>\n",
       "      <td>моя старшая неделю шипела, не принимала подкид...</td>\n",
       "    </tr>\n",
       "    <tr>\n",
       "      <th>2</th>\n",
       "      <td>6256</td>\n",
       "      <td>полностью с вами согласна!</td>\n",
       "    </tr>\n",
       "    <tr>\n",
       "      <th>3</th>\n",
       "      <td>189636</td>\n",
       "      <td>хоть ногу вверх, ничего не изменится</td>\n",
       "    </tr>\n",
       "    <tr>\n",
       "      <th>4</th>\n",
       "      <td>99053</td>\n",
       "      <td>а что значит - левого ребенка?</td>\n",
       "    </tr>\n",
       "    <tr>\n",
       "      <th>...</th>\n",
       "      <td>...</td>\n",
       "      <td>...</td>\n",
       "    </tr>\n",
       "    <tr>\n",
       "      <th>248285</th>\n",
       "      <td>192320</td>\n",
       "      <td>не трогай попу,это не твоё!</td>\n",
       "    </tr>\n",
       "    <tr>\n",
       "      <th>248286</th>\n",
       "      <td>6646</td>\n",
       "      <td>пополнение очередных пидорасов</td>\n",
       "    </tr>\n",
       "    <tr>\n",
       "      <th>248287</th>\n",
       "      <td>215218</td>\n",
       "      <td>если грёбаные депутаты сядут на наши пенсии, о...</td>\n",
       "    </tr>\n",
       "    <tr>\n",
       "      <th>248288</th>\n",
       "      <td>139806</td>\n",
       "      <td>вождь апачи.</td>\n",
       "    </tr>\n",
       "    <tr>\n",
       "      <th>248289</th>\n",
       "      <td>99052</td>\n",
       "      <td>ее в таманскую дивизию на сутки.там хорошие со...</td>\n",
       "    </tr>\n",
       "  </tbody>\n",
       "</table>\n",
       "<p>248290 rows × 2 columns</p>\n",
       "</div>"
      ],
      "text/plain": [
       "            id                                            comment\n",
       "0        41127                     дворника надо тоже уничтожить!\n",
       "1         6812  моя старшая неделю шипела, не принимала подкид...\n",
       "2         6256                         полностью с вами согласна!\n",
       "3       189636               хоть ногу вверх, ничего не изменится\n",
       "4        99053                     а что значит - левого ребенка?\n",
       "...        ...                                                ...\n",
       "248285  192320                        не трогай попу,это не твоё!\n",
       "248286    6646                     пополнение очередных пидорасов\n",
       "248287  215218  если грёбаные депутаты сядут на наши пенсии, о...\n",
       "248288  139806                                       вождь апачи.\n",
       "248289   99052  ее в таманскую дивизию на сутки.там хорошие со...\n",
       "\n",
       "[248290 rows x 2 columns]"
      ]
     },
     "execution_count": 9,
     "metadata": {},
     "output_type": "execute_result"
    }
   ],
   "source": [
    "data = pd.read_table(\n",
    "    DATA, \n",
    "    delimiter='\\t', \n",
    "    error_bad_lines=False, \n",
    "    header = None, \n",
    "    names = ['id', 'comment']\n",
    ")\n",
    "data\n"
   ]
  },
  {
   "cell_type": "code",
   "execution_count": 10,
   "metadata": {},
   "outputs": [
    {
     "data": {
      "text/plain": [
       "False"
      ]
     },
     "execution_count": 10,
     "metadata": {},
     "output_type": "execute_result"
    }
   ],
   "source": [
    "test = pd.merge(test, data, how='inner', on=['id'])\n",
    "test.isna().all().all()"
   ]
  },
  {
   "cell_type": "code",
   "execution_count": 11,
   "metadata": {},
   "outputs": [],
   "source": [
    "list_sentences_train = train.comment.values\n",
    "list_sentences_test = test.comment.values\n",
    "list_classes = ['normal', 'insult', 'obscenity', 'threat']\n",
    "y = train[list_classes].values\n"
   ]
  },
  {
   "cell_type": "code",
   "execution_count": 12,
   "metadata": {},
   "outputs": [],
   "source": [
    "tokenizer = Tokenizer(num_words=max_features)\n",
    "tokenizer.fit_on_texts(list(list_sentences_train))\n",
    "list_tokenized_train = tokenizer.texts_to_sequences(list_sentences_train)\n",
    "list_tokenized_test = tokenizer.texts_to_sequences(list_sentences_test)\n",
    "X_train = pad_sequences(list_tokenized_train, maxlen=maxlen)\n",
    "X_test = pad_sequences(list_tokenized_test, maxlen=maxlen)"
   ]
  },
  {
   "cell_type": "code",
   "execution_count": 13,
   "metadata": {},
   "outputs": [],
   "source": [
    "def get_coefs(word,*arr): \n",
    "    return word, np.asarray(arr, dtype='float32')\n",
    "\n",
    "embeddings_index = dict(get_coefs(*o.strip().split()) for o in open(EMBEDDING_FILE))\n"
   ]
  },
  {
   "cell_type": "code",
   "execution_count": 14,
   "metadata": {},
   "outputs": [
    {
     "name": "stderr",
     "output_type": "stream",
     "text": [
      "/Library/Frameworks/Python.framework/Versions/3.6/lib/python3.6/site-packages/IPython/core/interactiveshell.py:3254: FutureWarning: arrays to stack must be passed as a \"sequence\" type such as list or tuple. Support for non-sequence iterables such as generators is deprecated as of NumPy 1.16 and will raise an error in the future.\n",
      "  if (await self.run_code(code, result,  async_=asy)):\n"
     ]
    }
   ],
   "source": [
    "all_embs = np.stack(embeddings_index.values())\n",
    "emb_mean,emb_std = all_embs.mean(), all_embs.std()"
   ]
  },
  {
   "cell_type": "code",
   "execution_count": 15,
   "metadata": {},
   "outputs": [],
   "source": [
    "word_index = tokenizer.word_index\n",
    "nb_words = min(max_features, len(word_index))\n",
    "embedding_matrix = np.random.normal(emb_mean, emb_std, (nb_words, embed_size)) # 50\n",
    "\n",
    "for word, i in word_index.items():\n",
    "    if i >= max_features: \n",
    "        continue\n",
    "    embedding_vector = embeddings_index.get(word) \n",
    "    if embedding_vector is not None: \n",
    "        embedding_matrix[i] = embedding_vector"
   ]
  },
  {
   "cell_type": "code",
   "execution_count": 16,
   "metadata": {},
   "outputs": [],
   "source": [
    "inp = Input(shape=(maxlen,))\n",
    "x = Embedding(max_features, embed_size, weights=[embedding_matrix])(inp)\n",
    "x = Bidirectional(LSTM(50, return_sequences=True, dropout=0.1, recurrent_dropout=0.1))(x)\n",
    "x = GlobalMaxPool1D()(x)\n",
    "x = Dense(50, activation=\"relu\")(x)\n",
    "x = Dropout(0.1)(x)\n",
    "x = Dense(4, activation=\"sigmoid\")(x)\n",
    "model = Model(inputs=inp, outputs=x)\n",
    "model.compile(loss='binary_crossentropy', optimizer='adam', metrics=['accuracy'])"
   ]
  },
  {
   "cell_type": "code",
   "execution_count": 17,
   "metadata": {},
   "outputs": [
    {
     "name": "stdout",
     "output_type": "stream",
     "text": [
      "Epoch 1/2\n",
      "4185/4185 [==============================] - 3185s 761ms/step - loss: 0.1000 - accuracy: 0.9356 - val_loss: 0.0733 - val_accuracy: 0.9527\n",
      "Epoch 2/2\n",
      "4185/4185 [==============================] - 2923s 698ms/step - loss: 0.0594 - accuracy: 0.9623 - val_loss: 0.0710 - val_accuracy: 0.9568\n"
     ]
    },
    {
     "data": {
      "text/plain": [
       "<tensorflow.python.keras.callbacks.History at 0x14d2ac048>"
      ]
     },
     "execution_count": 17,
     "metadata": {},
     "output_type": "execute_result"
    }
   ],
   "source": [
    "model.fit(X_train, y, batch_size=32, epochs=2, validation_split=0.1)"
   ]
  },
  {
   "cell_type": "code",
   "execution_count": 18,
   "metadata": {},
   "outputs": [
    {
     "name": "stdout",
     "output_type": "stream",
     "text": [
      "WARNING:tensorflow:From /Users/alexeynikitin/Library/Python/3.6/lib/python/site-packages/tensorflow/python/ops/resource_variable_ops.py:1817: calling BaseResourceVariable.__init__ (from tensorflow.python.ops.resource_variable_ops) with constraint is deprecated and will be removed in a future version.\n",
      "Instructions for updating:\n",
      "If using Keras pass *_constraint arguments to layers.\n",
      "INFO:tensorflow:Assets written to: /Users/alexeynikitin/Desktop/Python_Projects/OK_ML_Cup_Toxic_Comments/assets\n"
     ]
    }
   ],
   "source": [
    "model.save(os.getcwd())"
   ]
  },
  {
   "cell_type": "code",
   "execution_count": 19,
   "metadata": {},
   "outputs": [
    {
     "name": "stdout",
     "output_type": "stream",
     "text": [
      "98/98 [==============================] - 141s 1s/step\n"
     ]
    }
   ],
   "source": [
    "y_test = model.predict(X_test, batch_size=1024, verbose=1)"
   ]
  },
  {
   "cell_type": "code",
   "execution_count": 31,
   "metadata": {},
   "outputs": [
    {
     "data": {
      "text/html": [
       "<div>\n",
       "<style scoped>\n",
       "    .dataframe tbody tr th:only-of-type {\n",
       "        vertical-align: middle;\n",
       "    }\n",
       "\n",
       "    .dataframe tbody tr th {\n",
       "        vertical-align: top;\n",
       "    }\n",
       "\n",
       "    .dataframe thead th {\n",
       "        text-align: right;\n",
       "    }\n",
       "</style>\n",
       "<table border=\"1\" class=\"dataframe\">\n",
       "  <thead>\n",
       "    <tr style=\"text-align: right;\">\n",
       "      <th></th>\n",
       "      <th>id</th>\n",
       "      <th>normal</th>\n",
       "      <th>insult</th>\n",
       "      <th>obscenity</th>\n",
       "      <th>threat</th>\n",
       "    </tr>\n",
       "  </thead>\n",
       "  <tbody>\n",
       "    <tr>\n",
       "      <th>0</th>\n",
       "      <td>167315</td>\n",
       "      <td>0.999741</td>\n",
       "      <td>0.000121</td>\n",
       "      <td>0.000003</td>\n",
       "      <td>0.000004</td>\n",
       "    </tr>\n",
       "    <tr>\n",
       "      <th>1</th>\n",
       "      <td>224546</td>\n",
       "      <td>0.954923</td>\n",
       "      <td>0.033137</td>\n",
       "      <td>0.000666</td>\n",
       "      <td>0.002782</td>\n",
       "    </tr>\n",
       "    <tr>\n",
       "      <th>2</th>\n",
       "      <td>241309</td>\n",
       "      <td>0.000059</td>\n",
       "      <td>0.999799</td>\n",
       "      <td>0.000006</td>\n",
       "      <td>0.000011</td>\n",
       "    </tr>\n",
       "    <tr>\n",
       "      <th>3</th>\n",
       "      <td>31170</td>\n",
       "      <td>0.000498</td>\n",
       "      <td>0.996552</td>\n",
       "      <td>0.000225</td>\n",
       "      <td>0.000570</td>\n",
       "    </tr>\n",
       "    <tr>\n",
       "      <th>4</th>\n",
       "      <td>173358</td>\n",
       "      <td>0.989832</td>\n",
       "      <td>0.007829</td>\n",
       "      <td>0.000168</td>\n",
       "      <td>0.000175</td>\n",
       "    </tr>\n",
       "    <tr>\n",
       "      <th>...</th>\n",
       "      <td>...</td>\n",
       "      <td>...</td>\n",
       "      <td>...</td>\n",
       "      <td>...</td>\n",
       "      <td>...</td>\n",
       "    </tr>\n",
       "    <tr>\n",
       "      <th>99510</th>\n",
       "      <td>192320</td>\n",
       "      <td>0.401002</td>\n",
       "      <td>0.357163</td>\n",
       "      <td>0.162442</td>\n",
       "      <td>0.003799</td>\n",
       "    </tr>\n",
       "    <tr>\n",
       "      <th>99511</th>\n",
       "      <td>6646</td>\n",
       "      <td>0.000069</td>\n",
       "      <td>0.999820</td>\n",
       "      <td>0.000027</td>\n",
       "      <td>0.000005</td>\n",
       "    </tr>\n",
       "    <tr>\n",
       "      <th>99512</th>\n",
       "      <td>215218</td>\n",
       "      <td>0.985269</td>\n",
       "      <td>0.012497</td>\n",
       "      <td>0.000067</td>\n",
       "      <td>0.000254</td>\n",
       "    </tr>\n",
       "    <tr>\n",
       "      <th>99513</th>\n",
       "      <td>139806</td>\n",
       "      <td>0.598991</td>\n",
       "      <td>0.439473</td>\n",
       "      <td>0.001447</td>\n",
       "      <td>0.008462</td>\n",
       "    </tr>\n",
       "    <tr>\n",
       "      <th>99514</th>\n",
       "      <td>99052</td>\n",
       "      <td>0.992245</td>\n",
       "      <td>0.005151</td>\n",
       "      <td>0.000211</td>\n",
       "      <td>0.000375</td>\n",
       "    </tr>\n",
       "  </tbody>\n",
       "</table>\n",
       "<p>99515 rows × 5 columns</p>\n",
       "</div>"
      ],
      "text/plain": [
       "           id    normal    insult  obscenity    threat\n",
       "0      167315  0.999741  0.000121   0.000003  0.000004\n",
       "1      224546  0.954923  0.033137   0.000666  0.002782\n",
       "2      241309  0.000059  0.999799   0.000006  0.000011\n",
       "3       31170  0.000498  0.996552   0.000225  0.000570\n",
       "4      173358  0.989832  0.007829   0.000168  0.000175\n",
       "...       ...       ...       ...        ...       ...\n",
       "99510  192320  0.401002  0.357163   0.162442  0.003799\n",
       "99511    6646  0.000069  0.999820   0.000027  0.000005\n",
       "99512  215218  0.985269  0.012497   0.000067  0.000254\n",
       "99513  139806  0.598991  0.439473   0.001447  0.008462\n",
       "99514   99052  0.992245  0.005151   0.000211  0.000375\n",
       "\n",
       "[99515 rows x 5 columns]"
      ]
     },
     "execution_count": 31,
     "metadata": {},
     "output_type": "execute_result"
    }
   ],
   "source": [
    "result = pd.concat([test, pd.DataFrame(data=y_test, columns=list_classes)], axis=1)\n",
    "result.drop(columns=['comment'])"
   ]
  },
  {
   "cell_type": "code",
   "execution_count": 32,
   "metadata": {},
   "outputs": [
    {
     "data": {
      "text/plain": [
       "array([[167315, 'какая прелесть!!!😍', 0.99974125623703,\n",
       "        0.00012110308307455853, 3.02076045954891e-06,\n",
       "        3.993211066699587e-06],\n",
       "       [224546, 'каал какой не с кровью?', 0.9549233913421631,\n",
       "        0.03313741087913513, 0.0006659328937530518, 0.002781778573989868],\n",
       "       [241309, 'гнойные пидоры аллы они', 5.875798160559498e-05,\n",
       "        0.9997990131378174, 5.837040134792915e-06,\n",
       "        1.1158575944136828e-05],\n",
       "       ...,\n",
       "       [215218,\n",
       "        'если грёбаные депутаты сядут на наши пенсии, они сразу же свои штаны потеряют, брыла по обвиснут, начнут болеть от недосыпа . никому ещё ни чего не подняли, а уж месяц трясут, что поднимут аж на 236р.позорники на весь мир.',\n",
       "        0.9852688312530518, 0.012497305870056152, 6.726165884174407e-05,\n",
       "        0.0002537965774536133],\n",
       "       [139806, 'вождь апачи.', 0.5989914536476135, 0.4394734799861908,\n",
       "        0.0014474689960479736, 0.00846242904663086],\n",
       "       [99052, 'ее в таманскую дивизию на сутки.там хорошие солдаты',\n",
       "        0.9922451376914978, 0.005150963552296162, 0.00021114401170052588,\n",
       "        0.0003746371658053249]], dtype=object)"
      ]
     },
     "execution_count": 32,
     "metadata": {},
     "output_type": "execute_result"
    }
   ],
   "source": [
    "result = result.to_numpy()\n",
    "result"
   ]
  }
 ],
 "metadata": {
  "kernelspec": {
   "display_name": "Python 3",
   "language": "python",
   "name": "python3"
  },
  "language_info": {
   "codemirror_mode": {
    "name": "ipython",
    "version": 3
   },
   "file_extension": ".py",
   "mimetype": "text/x-python",
   "name": "python",
   "nbconvert_exporter": "python",
   "pygments_lexer": "ipython3",
   "version": "3.6.4"
  }
 },
 "nbformat": 4,
 "nbformat_minor": 4
}
