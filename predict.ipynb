{
 "cells": [
  {
   "cell_type": "code",
   "execution_count": 1,
   "metadata": {},
   "outputs": [],
   "source": [
    "import pandas as pd\n",
    "import numpy as np\n",
    "import os\n",
    "from tensorflow.keras.preprocessing.text import Tokenizer\n",
    "from tensorflow.keras.preprocessing.sequence import pad_sequences\n",
    "from tensorflow import keras"
   ]
  },
  {
   "cell_type": "code",
   "execution_count": 2,
   "metadata": {},
   "outputs": [],
   "source": [
    "TEST_DATA_FILE='./data/test'\n",
    "DATA = './data/data'"
   ]
  },
  {
   "cell_type": "code",
   "execution_count": 3,
   "metadata": {},
   "outputs": [],
   "source": [
    "test = pd.read_table(\n",
    "    TEST_DATA_FILE, \n",
    "    header = None, \n",
    "    names = ['id']\n",
    ")"
   ]
  },
  {
   "cell_type": "code",
   "execution_count": 4,
   "metadata": {},
   "outputs": [],
   "source": [
    "data = pd.read_table(\n",
    "    DATA, \n",
    "    delimiter='\\t', \n",
    "    error_bad_lines=False, \n",
    "    header = None, \n",
    "    names = ['id', 'comment']\n",
    ")\n"
   ]
  },
  {
   "cell_type": "code",
   "execution_count": 5,
   "metadata": {},
   "outputs": [],
   "source": [
    "test = pd.merge(test, data, how='inner', on=['id'])"
   ]
  },
  {
   "cell_type": "code",
   "execution_count": 6,
   "metadata": {},
   "outputs": [],
   "source": [
    "list_classes = ['normal', 'insult', 'obscenity', 'threat']\n",
    "\n",
    "tokenizer = Tokenizer(num_words=20000)\n",
    "tokenizer.fit_on_texts(list(test.comment.values))\n",
    "list_tokenized_test = tokenizer.texts_to_sequences(test.comment.values)\n",
    "X_test = pad_sequences(list_tokenized_test, maxlen=100)"
   ]
  },
  {
   "cell_type": "code",
   "execution_count": 7,
   "metadata": {},
   "outputs": [],
   "source": [
    "model = keras.models.load_model(os.path.join(os.getcwd()))"
   ]
  },
  {
   "cell_type": "code",
   "execution_count": 8,
   "metadata": {},
   "outputs": [
    {
     "name": "stdout",
     "output_type": "stream",
     "text": [
      "98/98 [==============================] - 109s 1s/step\n"
     ]
    }
   ],
   "source": [
    "predictions = model.predict(X_test, batch_size=1024, verbose=1)"
   ]
  },
  {
   "cell_type": "code",
   "execution_count": 15,
   "metadata": {},
   "outputs": [],
   "source": [
    "test = test.drop(columns=['comment'])"
   ]
  },
  {
   "cell_type": "code",
   "execution_count": 16,
   "metadata": {},
   "outputs": [],
   "source": [
    "result = pd.concat([test, pd.DataFrame(data=predictions, columns=list_classes)], axis=1)"
   ]
  },
  {
   "cell_type": "code",
   "execution_count": 26,
   "metadata": {},
   "outputs": [
    {
     "data": {
      "text/html": [
       "<div>\n",
       "<style scoped>\n",
       "    .dataframe tbody tr th:only-of-type {\n",
       "        vertical-align: middle;\n",
       "    }\n",
       "\n",
       "    .dataframe tbody tr th {\n",
       "        vertical-align: top;\n",
       "    }\n",
       "\n",
       "    .dataframe thead th {\n",
       "        text-align: right;\n",
       "    }\n",
       "</style>\n",
       "<table border=\"1\" class=\"dataframe\">\n",
       "  <thead>\n",
       "    <tr style=\"text-align: right;\">\n",
       "      <th></th>\n",
       "      <th>id</th>\n",
       "      <th>normal</th>\n",
       "      <th>insult</th>\n",
       "      <th>obscenity</th>\n",
       "      <th>threat</th>\n",
       "    </tr>\n",
       "  </thead>\n",
       "  <tbody>\n",
       "    <tr>\n",
       "      <th>0</th>\n",
       "      <td>167315</td>\n",
       "      <td>0.995909</td>\n",
       "      <td>0.003261</td>\n",
       "      <td>0.000197</td>\n",
       "      <td>0.000033</td>\n",
       "    </tr>\n",
       "    <tr>\n",
       "      <th>1</th>\n",
       "      <td>224546</td>\n",
       "      <td>0.925806</td>\n",
       "      <td>0.059715</td>\n",
       "      <td>0.004366</td>\n",
       "      <td>0.010631</td>\n",
       "    </tr>\n",
       "    <tr>\n",
       "      <th>2</th>\n",
       "      <td>241309</td>\n",
       "      <td>0.977234</td>\n",
       "      <td>0.019940</td>\n",
       "      <td>0.002071</td>\n",
       "      <td>0.000470</td>\n",
       "    </tr>\n",
       "    <tr>\n",
       "      <th>3</th>\n",
       "      <td>31170</td>\n",
       "      <td>0.988559</td>\n",
       "      <td>0.009253</td>\n",
       "      <td>0.000191</td>\n",
       "      <td>0.000331</td>\n",
       "    </tr>\n",
       "    <tr>\n",
       "      <th>4</th>\n",
       "      <td>173358</td>\n",
       "      <td>0.999023</td>\n",
       "      <td>0.000893</td>\n",
       "      <td>0.000003</td>\n",
       "      <td>0.000006</td>\n",
       "    </tr>\n",
       "    <tr>\n",
       "      <th>...</th>\n",
       "      <td>...</td>\n",
       "      <td>...</td>\n",
       "      <td>...</td>\n",
       "      <td>...</td>\n",
       "      <td>...</td>\n",
       "    </tr>\n",
       "    <tr>\n",
       "      <th>99510</th>\n",
       "      <td>192320</td>\n",
       "      <td>0.928974</td>\n",
       "      <td>0.069144</td>\n",
       "      <td>0.001157</td>\n",
       "      <td>0.003284</td>\n",
       "    </tr>\n",
       "    <tr>\n",
       "      <th>99511</th>\n",
       "      <td>6646</td>\n",
       "      <td>0.997226</td>\n",
       "      <td>0.002566</td>\n",
       "      <td>0.000070</td>\n",
       "      <td>0.000047</td>\n",
       "    </tr>\n",
       "    <tr>\n",
       "      <th>99512</th>\n",
       "      <td>215218</td>\n",
       "      <td>0.966785</td>\n",
       "      <td>0.039936</td>\n",
       "      <td>0.000104</td>\n",
       "      <td>0.000304</td>\n",
       "    </tr>\n",
       "    <tr>\n",
       "      <th>99513</th>\n",
       "      <td>139806</td>\n",
       "      <td>0.981752</td>\n",
       "      <td>0.016142</td>\n",
       "      <td>0.000797</td>\n",
       "      <td>0.000558</td>\n",
       "    </tr>\n",
       "    <tr>\n",
       "      <th>99514</th>\n",
       "      <td>99052</td>\n",
       "      <td>0.993769</td>\n",
       "      <td>0.006806</td>\n",
       "      <td>0.000052</td>\n",
       "      <td>0.000055</td>\n",
       "    </tr>\n",
       "  </tbody>\n",
       "</table>\n",
       "<p>99515 rows × 5 columns</p>\n",
       "</div>"
      ],
      "text/plain": [
       "           id    normal    insult  obscenity    threat\n",
       "0      167315  0.995909  0.003261   0.000197  0.000033\n",
       "1      224546  0.925806  0.059715   0.004366  0.010631\n",
       "2      241309  0.977234  0.019940   0.002071  0.000470\n",
       "3       31170  0.988559  0.009253   0.000191  0.000331\n",
       "4      173358  0.999023  0.000893   0.000003  0.000006\n",
       "...       ...       ...       ...        ...       ...\n",
       "99510  192320  0.928974  0.069144   0.001157  0.003284\n",
       "99511    6646  0.997226  0.002566   0.000070  0.000047\n",
       "99512  215218  0.966785  0.039936   0.000104  0.000304\n",
       "99513  139806  0.981752  0.016142   0.000797  0.000558\n",
       "99514   99052  0.993769  0.006806   0.000052  0.000055\n",
       "\n",
       "[99515 rows x 5 columns]"
      ]
     },
     "execution_count": 26,
     "metadata": {},
     "output_type": "execute_result"
    }
   ],
   "source": [
    "result = result[['id', 'normal', 'insult','obscenity', 'threat']]\n",
    "result"
   ]
  },
  {
   "cell_type": "code",
   "execution_count": 25,
   "metadata": {},
   "outputs": [],
   "source": [
    "predictions = result.to_numpy()\n",
    "np.savetxt(\"result.txt\", predictions, fmt=\"%.6g\")"
   ]
  },
  {
   "cell_type": "code",
   "execution_count": 27,
   "metadata": {},
   "outputs": [
    {
     "data": {
      "text/plain": [
       "array([[1.67315000e+05, 9.95909035e-01, 3.26138735e-03, 1.97052956e-04,\n",
       "        3.27495909e-05],\n",
       "       [2.24546000e+05, 9.25806284e-01, 5.97152114e-02, 4.36633825e-03,\n",
       "        1.06309950e-02],\n",
       "       [2.41309000e+05, 9.77233946e-01, 1.99396610e-02, 2.07135081e-03,\n",
       "        4.69744205e-04],\n",
       "       ...,\n",
       "       [2.15218000e+05, 9.66784656e-01, 3.99363935e-02, 1.04139443e-04,\n",
       "        3.04073095e-04],\n",
       "       [1.39806000e+05, 9.81752098e-01, 1.61421299e-02, 7.96824694e-04,\n",
       "        5.58197498e-04],\n",
       "       [9.90520000e+04, 9.93769109e-01, 6.80552609e-03, 5.21859729e-05,\n",
       "        5.53345781e-05]])"
      ]
     },
     "execution_count": 27,
     "metadata": {},
     "output_type": "execute_result"
    }
   ],
   "source": [
    "predictions"
   ]
  }
 ],
 "metadata": {
  "kernelspec": {
   "display_name": "Python 3",
   "language": "python",
   "name": "python3"
  },
  "language_info": {
   "codemirror_mode": {
    "name": "ipython",
    "version": 3
   },
   "file_extension": ".py",
   "mimetype": "text/x-python",
   "name": "python",
   "nbconvert_exporter": "python",
   "pygments_lexer": "ipython3",
   "version": "3.6.4"
  }
 },
 "nbformat": 4,
 "nbformat_minor": 4
}
